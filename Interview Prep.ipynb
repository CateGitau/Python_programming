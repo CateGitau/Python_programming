{
 "cells": [
  {
   "cell_type": "markdown",
   "metadata": {
    "toc": true
   },
   "source": [
    "<h1>Table of Contents<span class=\"tocSkip\"></span></h1>\n",
    "<div class=\"toc\"><ul class=\"toc-item\"><li><span><a href=\"#Arrays\" data-toc-modified-id=\"Arrays-1\"><span class=\"toc-item-num\">1&nbsp;&nbsp;</span>Arrays</a></span></li><li><span><a href=\"#Strings\" data-toc-modified-id=\"Strings-2\"><span class=\"toc-item-num\">2&nbsp;&nbsp;</span>Strings</a></span></li></ul></div>"
   ]
  },
  {
   "cell_type": "markdown",
   "metadata": {},
   "source": [
    "# Arrays"
   ]
  },
  {
   "cell_type": "code",
   "execution_count": 2,
   "metadata": {},
   "outputs": [
    {
     "name": "stdout",
     "output_type": "stream",
     "text": [
      "[1, 3, 6, 10]\n"
     ]
    }
   ],
   "source": [
    "#1 - Running Sum 1d Array\n",
    "nums = [1,2,3,4]\n",
    "\n",
    "\n",
    "def runSum(nums):\n",
    "    arr = []\n",
    "    sums = 0\n",
    "    \n",
    "    for i in nums:\n",
    "        sums+=i\n",
    "        arr.append(sums)\n",
    "    return arr\n",
    "\n",
    "print(runSum(nums))"
   ]
  },
  {
   "cell_type": "code",
   "execution_count": 7,
   "metadata": {},
   "outputs": [
    {
     "name": "stdout",
     "output_type": "stream",
     "text": [
      "[True, True, True, False, True]\n"
     ]
    }
   ],
   "source": [
    "#2 - Kids wih the greatest number of candies\n",
    "\n",
    "candies = [2,3,5,1,3]\n",
    "extraCandies = 3\n",
    "\n",
    "def mostCandies(candies, extraCandies):\n",
    "    result = []\n",
    "    for i in candies:\n",
    "        total = extraCandies + i\n",
    "        if  total>= max(candies):\n",
    "            result.append(True)\n",
    "        else:\n",
    "            result.append(False)\n",
    "    return result\n",
    "\n",
    "print(mostCandies(candies, extraCandies))\n",
    "        "
   ]
  },
  {
   "cell_type": "code",
   "execution_count": 9,
   "metadata": {},
   "outputs": [
    {
     "name": "stdout",
     "output_type": "stream",
     "text": [
      "[2, 3, 5, 4, 1, 7]\n"
     ]
    }
   ],
   "source": [
    "#3 Shuffle the array\n",
    "nums = [2,5,1,3,4,7]\n",
    "n = 3\n",
    "\n",
    "def shufArray(nums, n):\n",
    "    x=nums[:n]\n",
    "    y=nums[n:]\n",
    "    \n",
    "    final = []\n",
    "    \n",
    "    for i, j in zip(x,y):\n",
    "        final.append(i)\n",
    "        final.append(j)\n",
    "        \n",
    "    return final\n",
    "\n",
    "print(shufArray(nums, n))"
   ]
  },
  {
   "cell_type": "code",
   "execution_count": 15,
   "metadata": {},
   "outputs": [
    {
     "name": "stdout",
     "output_type": "stream",
     "text": [
      "6\n"
     ]
    }
   ],
   "source": [
    "#4 Richest customer wealth\n",
    "\n",
    "accounts = [[1,2,3], [3,2,1]]\n",
    "\n",
    "def richCustomer(accounts):\n",
    "    max_wealth = []\n",
    "    for i in accounts:\n",
    "        total = sum(i)\n",
    "        max_wealth.append(total)\n",
    "    \n",
    "    return max(max_wealth)\n",
    "\n",
    "print(richCustomer(accounts))"
   ]
  },
  {
   "cell_type": "code",
   "execution_count": 24,
   "metadata": {},
   "outputs": [
    {
     "name": "stdout",
     "output_type": "stream",
     "text": [
      "4\n"
     ]
    }
   ],
   "source": [
    "#5 Number of good pairs\n",
    "\n",
    "nums = [1,2,3,1,1,3]\n",
    "\n",
    "def goodPairs(nums):\n",
    "    counter = 0\n",
    "    for i in range(len(nums)):\n",
    "        for j in range(i+1, len(nums)):\n",
    "            if nums[i] == nums[j] and i<j:\n",
    "                counter+=1\n",
    "    return counter\n",
    "            \n",
    "            \n",
    "print(goodPairs(nums))"
   ]
  },
  {
   "cell_type": "markdown",
   "metadata": {},
   "source": [
    "# Strings"
   ]
  },
  {
   "cell_type": "code",
   "execution_count": 25,
   "metadata": {},
   "outputs": [
    {
     "name": "stdout",
     "output_type": "stream",
     "text": [
      "1[.]1[.]1[.]1\n"
     ]
    }
   ],
   "source": [
    "#1- Defanging an IP Address\n",
    "\n",
    "address = \"1.1.1.1\"\n",
    "\n",
    "def defang(address):\n",
    "    output = \"\"\n",
    "    for i in address:\n",
    "        if i == '.':\n",
    "            output+= '[.]'\n",
    "        else:\n",
    "            output += i\n",
    "    return output\n",
    "\n",
    "print(defang(address))\n",
    "            "
   ]
  },
  {
   "cell_type": "code",
   "execution_count": 34,
   "metadata": {},
   "outputs": [
    {
     "name": "stdout",
     "output_type": "stream",
     "text": [
      "Goal\n"
     ]
    }
   ],
   "source": [
    "#2 Goal Parser Interpretation\n",
    "\n",
    "command = \"G()(al)\"\n",
    "\n",
    "def parser(command):\n",
    "    return command.replace('()','o').replace('(al)','al')\n",
    "\n",
    "print(parser(command))"
   ]
  },
  {
   "cell_type": "code",
   "execution_count": 36,
   "metadata": {},
   "outputs": [
    {
     "name": "stdout",
     "output_type": "stream",
     "text": [
      "4\n"
     ]
    }
   ],
   "source": [
    "#3 split a string in Balanced Strings\n",
    "\n",
    "s = \"RLRRLLRLRL\"\n",
    "\n",
    "def splitString(s):\n",
    "    cnt = 0\n",
    "    res = 0\n",
    "    \n",
    "    for i in s:\n",
    "        if i == \"R\":\n",
    "            cnt+=1\n",
    "        else:\n",
    "            cnt-=1\n",
    "        if cnt == 0:\n",
    "            res+=1\n",
    "    return res\n",
    "\n",
    "print(splitString(s))"
   ]
  },
  {
   "cell_type": "code",
   "execution_count": 41,
   "metadata": {},
   "outputs": [
    {
     "name": "stdout",
     "output_type": "stream",
     "text": [
      "apbqcr\n"
     ]
    }
   ],
   "source": [
    "#4 merge strings alternatively\n",
    "from itertools import zip_longest\n",
    "word1 = \"abc\"\n",
    "word2 = \"pqr\"\n",
    "\n",
    "def mergeStrings(word1, word2):\n",
    "    final = \"\"\n",
    "    for i, j in zip_longest(word1, word2, fillvalue = ''):\n",
    "        final+= i\n",
    "        final += j\n",
    "    return final\n",
    "\n",
    "print(mergeStrings(word1, word2))\n",
    "        "
   ]
  },
  {
   "cell_type": "code",
   "execution_count": 42,
   "metadata": {},
   "outputs": [
    {
     "name": "stdout",
     "output_type": "stream",
     "text": [
      "True\n"
     ]
    }
   ],
   "source": [
    "#5 check if two String Arrays are Equivalent\n",
    "\n",
    "w1 = [\"ab\", \"c\"]\n",
    "w2 = [\"a\", \"bc\"]\n",
    "\n",
    "def equivalentStrings(w1, w2):\n",
    "    str1 = \"\"\n",
    "    str2 = \"\"\n",
    "    for i in w1:\n",
    "        str1 += i\n",
    "    for j in w2:\n",
    "        str2+=j\n",
    "    if str1 == str2:\n",
    "        return True\n",
    "    else:\n",
    "        return False\n",
    "    \n",
    "print(equivalentStrings(w1,w2))"
   ]
  },
  {
   "cell_type": "code",
   "execution_count": null,
   "metadata": {},
   "outputs": [],
   "source": []
  }
 ],
 "metadata": {
  "hide_input": false,
  "kernelspec": {
   "display_name": "Python 3",
   "language": "python",
   "name": "python3"
  },
  "language_info": {
   "codemirror_mode": {
    "name": "ipython",
    "version": 3
   },
   "file_extension": ".py",
   "mimetype": "text/x-python",
   "name": "python",
   "nbconvert_exporter": "python",
   "pygments_lexer": "ipython3",
   "version": "3.7.9"
  },
  "toc": {
   "base_numbering": 1,
   "nav_menu": {},
   "number_sections": true,
   "sideBar": true,
   "skip_h1_title": false,
   "title_cell": "Table of Contents",
   "title_sidebar": "Contents",
   "toc_cell": true,
   "toc_position": {},
   "toc_section_display": true,
   "toc_window_display": false
  }
 },
 "nbformat": 4,
 "nbformat_minor": 4
}
