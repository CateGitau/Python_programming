{
 "cells": [
  {
   "cell_type": "markdown",
   "metadata": {
    "toc": true
   },
   "source": [
    "<h1>Table of Contents<span class=\"tocSkip\"></span></h1>\n",
    "<div class=\"toc\"><ul class=\"toc-item\"><li><span><a href=\"#Collections\" data-toc-modified-id=\"Collections-1\"><span class=\"toc-item-num\">1&nbsp;&nbsp;</span>Collections</a></span><ul class=\"toc-item\"><li><span><a href=\"#Lists\" data-toc-modified-id=\"Lists-1.1\"><span class=\"toc-item-num\">1.1&nbsp;&nbsp;</span>Lists</a></span></li><li><span><a href=\"#Arrays\" data-toc-modified-id=\"Arrays-1.2\"><span class=\"toc-item-num\">1.2&nbsp;&nbsp;</span>Arrays</a></span></li><li><span><a href=\"#Linked-Lists\" data-toc-modified-id=\"Linked-Lists-1.3\"><span class=\"toc-item-num\">1.3&nbsp;&nbsp;</span>Linked Lists</a></span><ul class=\"toc-item\"><li><span><a href=\"#Advantages-of-Linked-Lists\" data-toc-modified-id=\"Advantages-of-Linked-Lists-1.3.1\"><span class=\"toc-item-num\">1.3.1&nbsp;&nbsp;</span>Advantages of Linked Lists</a></span></li><li><span><a href=\"#Disadvantages-of-Linked-Lists\" data-toc-modified-id=\"Disadvantages-of-Linked-Lists-1.3.2\"><span class=\"toc-item-num\">1.3.2&nbsp;&nbsp;</span>Disadvantages of Linked Lists</a></span></li><li><span><a href=\"#Types-of-Linked-Lists\" data-toc-modified-id=\"Types-of-Linked-Lists-1.3.3\"><span class=\"toc-item-num\">1.3.3&nbsp;&nbsp;</span>Types of Linked Lists</a></span></li></ul></li></ul></li></ul></div>"
   ]
  },
  {
   "cell_type": "markdown",
   "metadata": {},
   "source": [
    "# Collections\n",
    "\n",
    "A group of things"
   ]
  },
  {
   "cell_type": "markdown",
   "metadata": {},
   "source": [
    "## Lists\n",
    "- They have an order\n",
    "- Have no fixed length\n",
    "\n",
    "But in Python, the elements of a list are contiguous in memory, and they can be accessed using an index."
   ]
  },
  {
   "cell_type": "markdown",
   "metadata": {},
   "source": [
    "## Arrays\n",
    "\n",
    "Arrays have indexes while lists do not have\n",
    "- Arrays are given its initial size\n",
    "- All the elements are of the same size and contiguous"
   ]
  },
  {
   "cell_type": "markdown",
   "metadata": {},
   "source": [
    "## Linked Lists\n",
    "\n",
    "Difference between **Array** and **Linked Lists**:\n",
    "\n",
    "They both store different information.\n",
    "- Array stores a value and its index\n",
    "- Linked list stores a value and a reference to a next element in a list(memory address of the next element) \n",
    "\n",
    "\n",
    "### Advantages of Linked Lists\n",
    "- It takes constant time to insert or remove the elements at the beginning and end of the list.\n",
    "- No memory is wasted. In contrast with Arrays in which memory is allocated even before storing new data causing it to be underutilized until it’s full\n",
    "\n",
    "### Disadvantages of Linked Lists\n",
    "It takes linear time O(n) to find an element because the lements are not stored contiguously in memory.\n",
    "\n",
    "\n",
    "### Types of Linked Lists\n",
    "\n",
    "**Singly-Linked Lists**\n",
    "Nodes only have a pointer pointing to the node that is located immediateltly to theur right. Therefore the list can only be traversed in one direction.\n",
    "\n",
    "**Doubly Linked Lists**\n",
    "Has pointers to the next and previous element in a list . Here you can traverse the list in both directions. \n"
   ]
  },
  {
   "cell_type": "code",
   "execution_count": null,
   "metadata": {},
   "outputs": [],
   "source": [
    "class Element(object):\n",
    "    def __init__(self, value):\n",
    "        self.value = value\n",
    "        self.next = None\n",
    "\n",
    "class LinkedList(object):\n",
    "    def __init(self, head= None):\n",
    "        \"\"\"\n",
    "        set to none since when list is initialized it has no nodes. A linked list doesn't necessarily require a node to initialize\n",
    "        \"\"\"\n",
    "        self.head = head\n",
    "    \n",
    "    #printing values in the list\n",
    "    def print_list(self):\n",
    "        current_node = current.head:\n",
    "        while current_node:\n",
    "            print(current_node.next)\n",
    "        current_node = current_node.next\n",
    "\n",
    "    #inserting at the end of the list\n",
    "    def append(self, new_element):\n",
    "        current_node = current.head\n",
    "        if self.head:\n",
    "            while current.next:\n",
    "                current = current.next\n",
    "                current.next = new_element\n",
    "        else:\n",
    "            self.head = new_element\n",
    "\n",
    "    \n",
    "        \n"
   ]
  },
  {
   "cell_type": "code",
   "execution_count": null,
   "metadata": {},
   "outputs": [],
   "source": []
  }
 ],
 "metadata": {
  "hide_input": false,
  "kernelspec": {
   "display_name": "Python 3",
   "language": "python",
   "name": "python3"
  },
  "language_info": {
   "codemirror_mode": {
    "name": "ipython",
    "version": 3
   },
   "file_extension": ".py",
   "mimetype": "text/x-python",
   "name": "python",
   "nbconvert_exporter": "python",
   "pygments_lexer": "ipython3",
   "version": "3.7.9"
  },
  "toc": {
   "base_numbering": 1,
   "nav_menu": {},
   "number_sections": true,
   "sideBar": true,
   "skip_h1_title": false,
   "title_cell": "Table of Contents",
   "title_sidebar": "Contents",
   "toc_cell": true,
   "toc_position": {},
   "toc_section_display": true,
   "toc_window_display": false
  }
 },
 "nbformat": 4,
 "nbformat_minor": 2
}
