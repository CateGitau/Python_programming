{
 "cells": [
  {
   "cell_type": "markdown",
   "metadata": {
    "toc": true
   },
   "source": [
    "<h1>Table of Contents<span class=\"tocSkip\"></span></h1>\n",
    "<div class=\"toc\"><ul class=\"toc-item\"><li><span><a href=\"#Linked-Lists\" data-toc-modified-id=\"Linked-Lists-1\"><span class=\"toc-item-num\">1&nbsp;&nbsp;</span>Linked Lists</a></span><ul class=\"toc-item\"><li><span><a href=\"#Add-new-element-to-the-end-of-LinkedList\" data-toc-modified-id=\"Add-new-element-to-the-end-of-LinkedList-1.1\"><span class=\"toc-item-num\">1.1&nbsp;&nbsp;</span>Add new element to the end of LinkedList</a></span></li></ul></li></ul></div>"
   ]
  },
  {
   "cell_type": "markdown",
   "metadata": {},
   "source": [
    "# Linked Lists"
   ]
  },
  {
   "cell_type": "code",
   "execution_count": 66,
   "metadata": {},
   "outputs": [],
   "source": [
    "class Element(object):\n",
    "    #init is used to initialize new element\n",
    "    def __init__(self, value):\n",
    "        self.value = value\n",
    "        self.next = None\n",
    "        \n",
    "class LinkedList(object):\n",
    "    def __init__(self, head = None):\n",
    "        self.head = head\n",
    "        \n",
    "    #add new element to likedlist\n",
    "    def append(self, new_element):\n",
    "        current = self.head\n",
    "        \n",
    "        if self.head:\n",
    "            while current.next:\n",
    "                current = current.next\n",
    "            current.next = new_element\n",
    "        else:\n",
    "            self.head = new_element\n",
    "    \n",
    "    \n",
    "    def get_position(self, position):\n",
    "        \"\"\"\n",
    "        Get an element from a particular position.\n",
    "        Assume the first position is 1.\n",
    "        Return \"None\" if position is not in the list\n",
    "        \"\"\"\n",
    "        \n",
    "        counter = 1\n",
    "        current = self.head\n",
    "        \n",
    "        if position < 1:\n",
    "            return None\n",
    "        \n",
    "        while current and counter <= position:\n",
    "            if counter == position:\n",
    "                return current\n",
    "            current = current.next\n",
    "            counter+=1\n",
    "        return None\n",
    "    \n",
    "    def insert(self, new_element, position):\n",
    "        \"\"\"Insert a new node at the given position.\n",
    "        Assume the first position is \"1\".\n",
    "        Inserting at position 3 means between\n",
    "        the 2nd and 3rd elements.\"\"\"\n",
    "        counter = 1\n",
    "        current = self.head\n",
    "        \n",
    "        if position > 1:\n",
    "            while current and counter < position:\n",
    "                if counter == position - 1:\n",
    "                    new_element.next = current.next\n",
    "                    current.next = new_element\n",
    "                current = current.next\n",
    "                counter+=1\n",
    "                \n",
    "        elif position == 1:\n",
    "            new_element.next = self.head\n",
    "            self.head = new_element\n",
    "            \n",
    "        pass\n",
    "    \n",
    "    def delete(self, value):\n",
    "        \"\"\"Delete the first node with a given value.\"\"\"\n",
    "        \n",
    "        current = self.head\n",
    "        previous = None\n",
    "        \n",
    "        while current.value != value and current.next:\n",
    "            previous = current\n",
    "            current = current.next\n",
    "        \n",
    "        if current.value == value:\n",
    "            if previous:\n",
    "                previous.next = current.next\n",
    "            else:\n",
    "                self.head = current.next\n",
    "        pass\n",
    "    \n",
    "    def delete(self, value):\n",
    "        \n",
    "        current = self.head\n",
    "        previous = 0\n",
    "        \n",
    "        while current.value != value and current.next:\n",
    "            previous = current\n",
    "            current = current.next\n",
    "            \n",
    "        if current.value = value:\n",
    "            if previous:\n",
    "                previous.next = current.next\n",
    "                current = previous\n",
    "            \n",
    "        \n",
    "        "
   ]
  },
  {
   "cell_type": "code",
   "execution_count": null,
   "metadata": {},
   "outputs": [],
   "source": []
  },
  {
   "cell_type": "code",
   "execution_count": 67,
   "metadata": {},
   "outputs": [
    {
     "name": "stdout",
     "output_type": "stream",
     "text": [
      "3\n",
      "3\n"
     ]
    }
   ],
   "source": [
    "# Test cases\n",
    "# Set up some Elements\n",
    "e1 = Element(1)\n",
    "e2 = Element(2)\n",
    "e3 = Element(3)\n",
    "e4 = Element(4)\n",
    "\n",
    "# Start setting up a LinkedList\n",
    "ll = LinkedList(e1)\n",
    "ll.append(e2)\n",
    "ll.append(e3)\n",
    "\n",
    "# Test get_position\n",
    "# Should print 3\n",
    "print(ll.head.next.next.value)\n",
    "# Should also print 3\n",
    "print(ll.get_position(3).value)\n"
   ]
  },
  {
   "cell_type": "code",
   "execution_count": 68,
   "metadata": {},
   "outputs": [],
   "source": [
    "# Test insert\n",
    "ll.insert(e4,3)"
   ]
  },
  {
   "cell_type": "code",
   "execution_count": 70,
   "metadata": {},
   "outputs": [
    {
     "data": {
      "text/plain": [
       "4"
      ]
     },
     "execution_count": 70,
     "metadata": {},
     "output_type": "execute_result"
    }
   ],
   "source": [
    "ll.get_position(3).value"
   ]
  },
  {
   "cell_type": "code",
   "execution_count": null,
   "metadata": {},
   "outputs": [],
   "source": []
  }
 ],
 "metadata": {
  "hide_input": false,
  "kernelspec": {
   "display_name": "Python 3",
   "language": "python",
   "name": "python3"
  },
  "language_info": {
   "codemirror_mode": {
    "name": "ipython",
    "version": 3
   },
   "file_extension": ".py",
   "mimetype": "text/x-python",
   "name": "python",
   "nbconvert_exporter": "python",
   "pygments_lexer": "ipython3",
   "version": "3.7.9"
  },
  "toc": {
   "base_numbering": 1,
   "nav_menu": {},
   "number_sections": true,
   "sideBar": true,
   "skip_h1_title": false,
   "title_cell": "Table of Contents",
   "title_sidebar": "Contents",
   "toc_cell": true,
   "toc_position": {},
   "toc_section_display": true,
   "toc_window_display": false
  }
 },
 "nbformat": 4,
 "nbformat_minor": 4
}
