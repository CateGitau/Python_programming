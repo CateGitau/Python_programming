{
 "cells": [
  {
   "cell_type": "markdown",
   "metadata": {
    "toc": true
   },
   "source": [
    "<h1>Table of Contents<span class=\"tocSkip\"></span></h1>\n",
    "<div class=\"toc\"><ul class=\"toc-item\"><li><span><a href=\"#Top-Interview-Questions-Leet-Code\" data-toc-modified-id=\"Top-Interview-Questions-Leet-Code-1\"><span class=\"toc-item-num\">1&nbsp;&nbsp;</span>Top Interview Questions Leet Code</a></span><ul class=\"toc-item\"><li><span><a href=\"#344.-Reverse-String\" data-toc-modified-id=\"344.-Reverse-String-1.1\"><span class=\"toc-item-num\">1.1&nbsp;&nbsp;</span>344. Reverse String</a></span></li><li><span><a href=\"#104.-Maximum-Depth-of-Binary-Tree\" data-toc-modified-id=\"104.-Maximum-Depth-of-Binary-Tree-1.2\"><span class=\"toc-item-num\">1.2&nbsp;&nbsp;</span>104. Maximum Depth of Binary Tree</a></span></li><li><span><a href=\"#237-Delete-Node-in-LinkedList\" data-toc-modified-id=\"237-Delete-Node-in-LinkedList-1.3\"><span class=\"toc-item-num\">1.3&nbsp;&nbsp;</span>237 Delete Node in LinkedList</a></span></li><li><span><a href=\"#136-Single-Number\" data-toc-modified-id=\"136-Single-Number-1.4\"><span class=\"toc-item-num\">1.4&nbsp;&nbsp;</span>136 Single Number</a></span></li><li><span><a href=\"#206.-Reverse-Linked-List\" data-toc-modified-id=\"206.-Reverse-Linked-List-1.5\"><span class=\"toc-item-num\">1.5&nbsp;&nbsp;</span>206. Reverse Linked List</a></span></li><li><span><a href=\"#104-Maximum-Depth-of-Binary-Tree\" data-toc-modified-id=\"104-Maximum-Depth-of-Binary-Tree-1.6\"><span class=\"toc-item-num\">1.6&nbsp;&nbsp;</span>104 Maximum Depth of Binary Tree</a></span></li></ul></li></ul></div>"
   ]
  },
  {
   "cell_type": "markdown",
   "metadata": {},
   "source": [
    "# Top Interview Questions Leet Code"
   ]
  },
  {
   "cell_type": "markdown",
   "metadata": {},
   "source": [
    "## 344. Reverse String"
   ]
  },
  {
   "cell_type": "code",
   "execution_count": 14,
   "metadata": {},
   "outputs": [],
   "source": [
    "'''\n",
    "Write a function that reverses a string.\n",
    "The input string is given as an array of characters char[].\n",
    "Do not allocate extra space for another array, \n",
    "you must do this by modifying the input array in-place with O(1) extra memory.\n",
    "You may assume all the characters consist of printable ascii characters.\n",
    "'''\n",
    "\n",
    "s =  [\"h\",\"e\",\"l\",\"l\",\"o\"]\n",
    "\n",
    "def reverseString(s):\n",
    "    s[:] = s[::-1]\n",
    "    return s[:]"
   ]
  },
  {
   "cell_type": "code",
   "execution_count": 15,
   "metadata": {},
   "outputs": [
    {
     "name": "stdout",
     "output_type": "stream",
     "text": [
      "['o', 'l', 'l', 'e', 'h']\n"
     ]
    }
   ],
   "source": [
    "print(reverseString(s))"
   ]
  },
  {
   "cell_type": "markdown",
   "metadata": {},
   "source": [
    "## 104. Maximum Depth of Binary Tree"
   ]
  },
  {
   "cell_type": "markdown",
   "metadata": {},
   "source": [
    "## 237 Delete Node in LinkedList"
   ]
  },
  {
   "cell_type": "code",
   "execution_count": 17,
   "metadata": {},
   "outputs": [
    {
     "data": {
      "text/plain": [
       "'\\nWrite a function to delete a node in a singly-linked list. \\nYou will not be given access to the head of the list, \\ninstead you will be given access to the node to be deleted directly.\\n\\nIt is guaranteed that the node to be deleted is not a tail node in the list.\\n'"
      ]
     },
     "execution_count": 17,
     "metadata": {},
     "output_type": "execute_result"
    }
   ],
   "source": [
    "'''\n",
    "Write a function to delete a node in a singly-linked list. \n",
    "You will not be given access to the head of the list, \n",
    "instead you will be given access to the node to be deleted directly.\n",
    "\n",
    "It is guaranteed that the node to be deleted is not a tail node in the list.\n",
    "'''\n",
    "\n",
    "head = [4,5,1,9]\n",
    "node = 5\n",
    "\n",
    "\n",
    "# Definition for singly-linked list.\n",
    "# class ListNode(object):\n",
    "#     def __init__(self, x):\n",
    "#         self.val = x\n",
    "#         self.next = None\n",
    "\n",
    "class Solution(object):\n",
    "    def deleteNode(self, node):\n",
    "        \"\"\"\n",
    "        :type node: ListNode\n",
    "        :rtype: void Do not return anything, modify node in-place instead.\n",
    "        \"\"\"\n",
    "        node.val = node.next.val\n",
    "        node.next = node.next.next \n",
    "        "
   ]
  },
  {
   "cell_type": "markdown",
   "metadata": {},
   "source": [
    "## 136 Single Number"
   ]
  },
  {
   "cell_type": "code",
   "execution_count": 24,
   "metadata": {},
   "outputs": [],
   "source": [
    "'''\n",
    "Given a non-empty array of integers nums, \n",
    "every element appears twice except for one. Find that single one.\n",
    "\n",
    "Follow up: Could you implement a solution with a linear runtime complexity \n",
    "and without using extra memory?\n",
    "'''\n",
    "\n",
    "nums = [2,2,3]\n",
    "\n",
    "def singleNumber(nums):\n",
    "    _num = {}\n",
    "    \n",
    "    for i in nums:\n",
    "        if i not in _num:\n",
    "            _num[i] = 1\n",
    "        else:\n",
    "            _num[i] += 1\n",
    "    return list(_num.keys())[list(_num.values()).index(1)]"
   ]
  },
  {
   "cell_type": "code",
   "execution_count": 23,
   "metadata": {},
   "outputs": [
    {
     "data": {
      "text/plain": [
       "3"
      ]
     },
     "execution_count": 23,
     "metadata": {},
     "output_type": "execute_result"
    }
   ],
   "source": [
    "singleNumber(nums)"
   ]
  },
  {
   "cell_type": "markdown",
   "metadata": {},
   "source": [
    "## 206. Reverse Linked List"
   ]
  },
  {
   "cell_type": "code",
   "execution_count": null,
   "metadata": {},
   "outputs": [],
   "source": [
    "'''\n",
    "Given the head of a singly linked list, \n",
    "reverse the list and return the reversed list\n",
    "'''\n",
    "\n",
    "head = [1,2,3,4,5]\n"
   ]
  },
  {
   "cell_type": "markdown",
   "metadata": {},
   "source": [
    "## 104 Maximum Depth of Binary Tree"
   ]
  },
  {
   "cell_type": "code",
   "execution_count": 51,
   "metadata": {},
   "outputs": [],
   "source": [
    "'''\n",
    "Given the root of a binary tree, return its maximum depth.\n",
    "A binary tree's maximum depth is the number of nodes along the \n",
    "longest path from the root node down to the farthest leaf node.\n",
    "'''\n",
    "\n",
    "class TreeNode(object):\n",
    "    def __init__(self, val=0, left=None, right=None):\n",
    "        self.val = val\n",
    "        self.right = right\n",
    "        self.left = left\n",
    "\n",
    "def maxDepth(root):\n",
    "    if root is None:\n",
    "        return -1\n",
    "\n",
    "    else:\n",
    "        lDepth = maxDepth(root.left)\n",
    "        rDepth = maxDepth(root.right)\n",
    "\n",
    "        if lDepth > rDepth:\n",
    "            return lDepth+1\n",
    "        else:\n",
    "            return rDepth+1\n"
   ]
  },
  {
   "cell_type": "code",
   "execution_count": 60,
   "metadata": {},
   "outputs": [],
   "source": [
    "root = TreeNode(1)"
   ]
  },
  {
   "cell_type": "code",
   "execution_count": 61,
   "metadata": {},
   "outputs": [],
   "source": [
    "root.left = TreeNode(2)\n",
    "root.right = TreeNode(3)\n",
    "root.left.left = TreeNode(4)\n",
    "root.left.right = TreeNode(5)"
   ]
  },
  {
   "cell_type": "code",
   "execution_count": 62,
   "metadata": {},
   "outputs": [
    {
     "name": "stdout",
     "output_type": "stream",
     "text": [
      "Height of tree is 2\n"
     ]
    }
   ],
   "source": [
    "print (\"Height of tree is %d\" %(maxDepth(root)))"
   ]
  },
  {
   "cell_type": "code",
   "execution_count": 63,
   "metadata": {},
   "outputs": [
    {
     "data": {
      "text/plain": [
       "<__main__.TreeNode at 0x7fdef0d58990>"
      ]
     },
     "execution_count": 63,
     "metadata": {},
     "output_type": "execute_result"
    }
   ],
   "source": [
    "root"
   ]
  },
  {
   "cell_type": "code",
   "execution_count": 64,
   "metadata": {},
   "outputs": [],
   "source": [
    "def findFullNode(root) : \n",
    "  \n",
    "    if (root != None) : \n",
    "      \n",
    "        findFullNode(root.left)  \n",
    "        if (root.left != None and \n",
    "            root.right != None) : \n",
    "            print(root.val, end = \" \")  \n",
    "        findFullNode(root.right)  "
   ]
  },
  {
   "cell_type": "code",
   "execution_count": 59,
   "metadata": {},
   "outputs": [
    {
     "name": "stdout",
     "output_type": "stream",
     "text": [
      "2 1 "
     ]
    }
   ],
   "source": [
    "findFullNode(root)"
   ]
  },
  {
   "cell_type": "code",
   "execution_count": null,
   "metadata": {},
   "outputs": [],
   "source": []
  }
 ],
 "metadata": {
  "hide_input": false,
  "kernelspec": {
   "display_name": "Python 3",
   "language": "python",
   "name": "python3"
  },
  "language_info": {
   "codemirror_mode": {
    "name": "ipython",
    "version": 3
   },
   "file_extension": ".py",
   "mimetype": "text/x-python",
   "name": "python",
   "nbconvert_exporter": "python",
   "pygments_lexer": "ipython3",
   "version": "3.7.9"
  },
  "toc": {
   "base_numbering": 1,
   "nav_menu": {},
   "number_sections": true,
   "sideBar": true,
   "skip_h1_title": false,
   "title_cell": "Table of Contents",
   "title_sidebar": "Contents",
   "toc_cell": true,
   "toc_position": {},
   "toc_section_display": true,
   "toc_window_display": false
  }
 },
 "nbformat": 4,
 "nbformat_minor": 4
}
