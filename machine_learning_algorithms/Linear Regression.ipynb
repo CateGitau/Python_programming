{
 "cells": [
  {
   "cell_type": "code",
   "execution_count": 1,
   "metadata": {},
   "outputs": [],
   "source": [
    "import numpy as np"
   ]
  },
  {
   "cell_type": "code",
   "execution_count": 22,
   "metadata": {},
   "outputs": [],
   "source": [
    "import numpy as np\n",
    "class LinearRegression:\n",
    "    \n",
    "    def fit(self, X, y, lr = 0.001, epochs=10000, verbose=True, batch_size=1):\n",
    "        X = self.add_bias(X)\n",
    "        self.weights = np.zeros(len(X[0]))\n",
    "        for i in range(epochs):\n",
    "            idx = np.random.choice(len(X), batch_size) \n",
    "            X_batch, y_batch =  X[idx], y[idx]\n",
    "            self.weights -= lr * self.get_gradient(X_batch, y_batch)\n",
    "            if i % 1000 == 0 and verbose: \n",
    "                print('Iterations: %d - Error : %.4f' %(i, self.get_loss(X,y)))\n",
    "                \n",
    "    def predict(self, X):\n",
    "        return self.predict_(self.add_bias(X))\n",
    "    \n",
    "    def get_loss(self, X, y):\n",
    "        return np.mean((y - self.predict_(X)) ** 2)\n",
    "    \n",
    "    def predict_(self, X):\n",
    "        return np.dot(X,self.weights)\n",
    "    \n",
    "    def add_bias(self,X):\n",
    "        return np.insert(X, 0, np.ones(len(X)), axis=1)\n",
    "        \n",
    "    def get_gradient(self, X, y):\n",
    "        return -1.0 * np.dot(y - self.predict_(X), X) / len(X)\n",
    "    \n",
    "    def evaluate(self, X, y):\n",
    "        return self.get_loss(self.add_bias(X), y)"
   ]
  },
  {
   "cell_type": "code",
   "execution_count": 23,
   "metadata": {},
   "outputs": [
    {
     "name": "stdout",
     "output_type": "stream",
     "text": [
      "Iterations: 0 - Error : 24942.8242\n",
      "Iterations: 1000 - Error : 5226.2542\n",
      "Iterations: 2000 - Error : 4762.3519\n",
      "Iterations: 3000 - Error : 4467.6732\n",
      "Iterations: 4000 - Error : 4282.1217\n",
      "Iterations: 5000 - Error : 4164.3107\n",
      "Iterations: 6000 - Error : 4087.3453\n",
      "Iterations: 7000 - Error : 4038.4663\n",
      "Iterations: 8000 - Error : 4008.3744\n",
      "Iterations: 9000 - Error : 3990.3957\n"
     ]
    }
   ],
   "source": [
    "import matplotlib.pyplot as plt\n",
    "from sklearn import datasets\n",
    "from sklearn.metrics import mean_squared_error, r2_score\n",
    "\n",
    "# Load the diabetes dataset\n",
    "diabetes = datasets.load_diabetes()\n",
    "\n",
    "\n",
    "# Use only one feature\n",
    "diabetes_X = diabetes.data[:, np.newaxis, 2]\n",
    "\n",
    "# Split the data into training/testing sets\n",
    "diabetes_X_train = diabetes_X[:-20]\n",
    "diabetes_X_test = diabetes_X[-20:]\n",
    "\n",
    "# Split the targets into training/testing sets\n",
    "diabetes_y_train = diabetes.target[:-20]\n",
    "diabetes_y_test = diabetes.target[-20:]\n",
    "\n",
    "# Create linear regression object\n",
    "regr = LinearRegression()\n",
    "\n",
    "# Train the model using the training sets\n",
    "regr.fit(diabetes_X_train, diabetes_y_train, lr=0.1, batch_size=len(diabetes_X_train))\n",
    "\n",
    "# Make predictions using the testing set\n",
    "diabetes_y_pred = regr.predict(diabetes_X_test)"
   ]
  },
  {
   "cell_type": "code",
   "execution_count": 24,
   "metadata": {},
   "outputs": [
    {
     "name": "stdout",
     "output_type": "stream",
     "text": [
      "Coefficients: \n",
      " [152.03011621 840.05939248]\n",
      "Mean squared error: 2647.52\n",
      "Variance score: 0.45\n"
     ]
    },
    {
     "data": {
      "image/png": "[encoded data removed]",
      "text/plain": [
       "<Figure size 432x288 with 1 Axes>"
      ]
     },
     "metadata": {},
     "output_type": "display_data"
    }
   ],
   "source": [
    "print('Coefficients: \\n', regr.weights)\n",
    "# The mean squared error\n",
    "print(\"Mean squared error: %.2f\"\n",
    "      % mean_squared_error(diabetes_y_test, diabetes_y_pred))\n",
    "# Explained variance score: 1 is perfect prediction\n",
    "print('Variance score: %.2f' % r2_score(diabetes_y_test, diabetes_y_pred))\n",
    "\n",
    "# Plot outputs\n",
    "plt.scatter(diabetes_X_test, diabetes_y_test,  color='black')\n",
    "plt.plot(diabetes_X_test, diabetes_y_pred, color='blue', linewidth=3)\n",
    "\n",
    "plt.xticks(())\n",
    "plt.yticks(())\n",
    "\n",
    "plt.show()"
   ]
  },
  {
   "cell_type": "code",
   "execution_count": null,
   "metadata": {},
   "outputs": [],
   "source": []
  }
 ],
 "metadata": {
  "kernelspec": {
   "display_name": "Python 3",
   "language": "python",
   "name": "python3"
  },
  "language_info": {
   "codemirror_mode": {
    "name": "ipython",
    "version": 3
   },
   "file_extension": ".py",
   "mimetype": "text/x-python",
   "name": "python",
   "nbconvert_exporter": "python",
   "pygments_lexer": "ipython3",
   "version": "3.8.5"
  }
 },
 "nbformat": 4,
 "nbformat_minor": 4
}
